{
  "nbformat": 4,
  "nbformat_minor": 0,
  "metadata": {
    "colab": {
      "name": "testplotimage0.ipynb",
      "version": "0.3.2",
      "provenance": [],
      "collapsed_sections": []
    },
    "kernelspec": {
      "name": "python3",
      "display_name": "Python 3"
    }
  },
  "cells": [
    {
      "metadata": {
        "id": "nLNM9pOeKO4X",
        "colab_type": "code",
        "colab": {
          "base_uri": "https://localhost:8080/",
          "height": 34
        },
        "outputId": "677f7084-62c5-4270-cfe1-b85f9c12ebd7"
      },
      "cell_type": "code",
      "source": [
        "ls\n"
      ],
      "execution_count": 45,
      "outputs": [
        {
          "output_type": "stream",
          "text": [
            "\u001b[0m\u001b[01;34mdrive\u001b[0m/  \u001b[01;34msample_data\u001b[0m/\n"
          ],
          "name": "stdout"
        }
      ]
    },
    {
      "metadata": {
        "id": "j85oZBHkPB07",
        "colab_type": "code",
        "colab": {
          "base_uri": "https://localhost:8080/",
          "height": 221
        },
        "outputId": "66e111aa-5e29-4ea4-af16-c0948f5d6457"
      },
      "cell_type": "code",
      "source": [
        "!ls \"/content/drive/My Drive/\""
      ],
      "execution_count": 49,
      "outputs": [
        {
          "output_type": "stream",
          "text": [
            " 000000000000000.pdf\t\t\t  Java\n",
            " 10530025戴嘉韋.doc\t\t\t  offce\n",
            " 106A\t\t\t\t\t  ooooooooo阿寒吉\n",
            " 106B\t\t\t\t\t  O.rar\n",
            " 106B第一梯反思.gform\t\t\t  報告\n",
            " 106B第一梯工作確認.gform\t\t  師傅\n",
            " 106學年度勞作教育課程說明簡報-學生.ppt   流程\n",
            " 107A\t\t\t\t\t '無標題表單 (1).gform'\n",
            "'Colab Notebooks'\t\t\t  無標題表單.gform\n",
            " CSO\t\t\t\t\t '無標題表單 (回應).gsheet'\n",
            " G\t\t\t\t\t  資料庫系統作業\n",
            " Game\t\t\t\t\t  電腦網路\n"
          ],
          "name": "stdout"
        }
      ]
    },
    {
      "metadata": {
        "id": "-7TmHhs-Rfoc",
        "colab_type": "code",
        "colab": {
          "base_uri": "https://localhost:8080/",
          "height": 119
        },
        "outputId": "157f7cfe-e901-4611-9988-d3a34d99c858"
      },
      "cell_type": "code",
      "source": [
        "!ls \"/content/drive/My Drive/Colab Notebooks\""
      ],
      "execution_count": 50,
      "outputs": [
        {
          "output_type": "stream",
          "text": [
            " data\t\t\t\t   'Keras_Mnist_MLP_h256 (1).ipynb'\n",
            "'Keras_Mnist_Introduce (1).ipynb'   Keras_Mnist_MLP_h256.ipynb\n",
            "'Keras_Mnist_Introduce (2).ipynb'   Keras_Taianic_Introduce.ipynb\n",
            "'Keras_Mnist_Introduce (3).ipynb'   p2.png\n",
            "'Keras_Mnist_Introduce (4).ipynb'   plot_image.ipynb\n",
            " Keras_Mnist_Introduce.ipynb\t    testplotimage0.ipynb\n"
          ],
          "name": "stdout"
        }
      ]
    },
    {
      "metadata": {
        "id": "SCwi2HurRnb9",
        "colab_type": "code",
        "colab": {
          "base_uri": "https://localhost:8080/",
          "height": 34
        },
        "outputId": "ce7bb5eb-a7a3-4975-f6d2-9d12c1e7e96e"
      },
      "cell_type": "code",
      "source": [
        "!ls \"/content/drive/My Drive/Colab Notebooks/p2.png\""
      ],
      "execution_count": 51,
      "outputs": [
        {
          "output_type": "stream",
          "text": [
            "'/content/drive/My Drive/Colab Notebooks/p2.png'\n"
          ],
          "name": "stdout"
        }
      ]
    },
    {
      "metadata": {
        "id": "dK4sNNS0PE2e",
        "colab_type": "code",
        "colab": {
          "base_uri": "https://localhost:8080/",
          "height": 347
        },
        "outputId": "e2043623-7d83-4451-bf2e-07d3bc11678f"
      },
      "cell_type": "code",
      "source": [
        "# plot image\n",
        "import matplotlib.pyplot as plt\n",
        "from matplotlib.image import imread\n",
        "\n",
        "img = imread('/content/drive/My Drive/Colab Notebooks/p2.png') # 画像の読み込み\n",
        "plt.imshow(img)\n",
        "\n",
        "plt.show()"
      ],
      "execution_count": 52,
      "outputs": [
        {
          "output_type": "display_data",
          "data": {
            "image/png": "[encoded data removed]",
            "text/plain": [
              "<matplotlib.figure.Figure at 0x7f9468fa4b70>"
            ]
          },
          "metadata": {
            "tags": []
          }
        }
      ]
    }
  ]
}